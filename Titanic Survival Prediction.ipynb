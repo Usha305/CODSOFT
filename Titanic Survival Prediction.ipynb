{
 "cells": [
  {
   "cell_type": "markdown",
   "id": "c0da29c8",
   "metadata": {},
   "source": [
    "# TITANIC SURVIVAL PREDICTION"
   ]
  },
  {
   "cell_type": "code",
   "execution_count": 1,
   "id": "9f903285",
   "metadata": {},
   "outputs": [],
   "source": [
    "#import libraries\n",
    "import pandas as pd\n",
    "import matplotlib.pyplot as plt\n",
    "import seaborn as sns\n",
    "from sklearn.model_selection import train_test_split\n",
    "from sklearn.linear_model import LogisticRegression\n",
    "from sklearn.metrics import accuracy_score"
   ]
  },
  {
   "cell_type": "code",
   "execution_count": 2,
   "id": "0fe7767f",
   "metadata": {},
   "outputs": [],
   "source": [
    "# Load the data\n",
    "data = pd.read_csv('tested.csv')"
   ]
  },
  {
   "cell_type": "markdown",
   "id": "550902dd",
   "metadata": {},
   "source": [
    "# Data Exploration and Preprocessing"
   ]
  },
  {
   "cell_type": "code",
   "execution_count": 3,
   "id": "630e6420",
   "metadata": {
    "scrolled": true
   },
   "outputs": [
    {
     "data": {
      "text/html": [
       "<div>\n",
       "<style scoped>\n",
       "    .dataframe tbody tr th:only-of-type {\n",
       "        vertical-align: middle;\n",
       "    }\n",
       "\n",
       "    .dataframe tbody tr th {\n",
       "        vertical-align: top;\n",
       "    }\n",
       "\n",
       "    .dataframe thead th {\n",
       "        text-align: right;\n",
       "    }\n",
       "</style>\n",
       "<table border=\"1\" class=\"dataframe\">\n",
       "  <thead>\n",
       "    <tr style=\"text-align: right;\">\n",
       "      <th></th>\n",
       "      <th>PassengerId</th>\n",
       "      <th>Survived</th>\n",
       "      <th>Pclass</th>\n",
       "      <th>Name</th>\n",
       "      <th>Sex</th>\n",
       "      <th>Age</th>\n",
       "      <th>SibSp</th>\n",
       "      <th>Parch</th>\n",
       "      <th>Ticket</th>\n",
       "      <th>Fare</th>\n",
       "      <th>Cabin</th>\n",
       "      <th>Embarked</th>\n",
       "    </tr>\n",
       "  </thead>\n",
       "  <tbody>\n",
       "    <tr>\n",
       "      <th>0</th>\n",
       "      <td>892</td>\n",
       "      <td>0</td>\n",
       "      <td>3</td>\n",
       "      <td>Kelly, Mr. James</td>\n",
       "      <td>male</td>\n",
       "      <td>34.5</td>\n",
       "      <td>0</td>\n",
       "      <td>0</td>\n",
       "      <td>330911</td>\n",
       "      <td>7.8292</td>\n",
       "      <td>NaN</td>\n",
       "      <td>Q</td>\n",
       "    </tr>\n",
       "    <tr>\n",
       "      <th>1</th>\n",
       "      <td>893</td>\n",
       "      <td>1</td>\n",
       "      <td>3</td>\n",
       "      <td>Wilkes, Mrs. James (Ellen Needs)</td>\n",
       "      <td>female</td>\n",
       "      <td>47.0</td>\n",
       "      <td>1</td>\n",
       "      <td>0</td>\n",
       "      <td>363272</td>\n",
       "      <td>7.0000</td>\n",
       "      <td>NaN</td>\n",
       "      <td>S</td>\n",
       "    </tr>\n",
       "    <tr>\n",
       "      <th>2</th>\n",
       "      <td>894</td>\n",
       "      <td>0</td>\n",
       "      <td>2</td>\n",
       "      <td>Myles, Mr. Thomas Francis</td>\n",
       "      <td>male</td>\n",
       "      <td>62.0</td>\n",
       "      <td>0</td>\n",
       "      <td>0</td>\n",
       "      <td>240276</td>\n",
       "      <td>9.6875</td>\n",
       "      <td>NaN</td>\n",
       "      <td>Q</td>\n",
       "    </tr>\n",
       "    <tr>\n",
       "      <th>3</th>\n",
       "      <td>895</td>\n",
       "      <td>0</td>\n",
       "      <td>3</td>\n",
       "      <td>Wirz, Mr. Albert</td>\n",
       "      <td>male</td>\n",
       "      <td>27.0</td>\n",
       "      <td>0</td>\n",
       "      <td>0</td>\n",
       "      <td>315154</td>\n",
       "      <td>8.6625</td>\n",
       "      <td>NaN</td>\n",
       "      <td>S</td>\n",
       "    </tr>\n",
       "    <tr>\n",
       "      <th>4</th>\n",
       "      <td>896</td>\n",
       "      <td>1</td>\n",
       "      <td>3</td>\n",
       "      <td>Hirvonen, Mrs. Alexander (Helga E Lindqvist)</td>\n",
       "      <td>female</td>\n",
       "      <td>22.0</td>\n",
       "      <td>1</td>\n",
       "      <td>1</td>\n",
       "      <td>3101298</td>\n",
       "      <td>12.2875</td>\n",
       "      <td>NaN</td>\n",
       "      <td>S</td>\n",
       "    </tr>\n",
       "  </tbody>\n",
       "</table>\n",
       "</div>"
      ],
      "text/plain": [
       "   PassengerId  Survived  Pclass  \\\n",
       "0          892         0       3   \n",
       "1          893         1       3   \n",
       "2          894         0       2   \n",
       "3          895         0       3   \n",
       "4          896         1       3   \n",
       "\n",
       "                                           Name     Sex   Age  SibSp  Parch  \\\n",
       "0                              Kelly, Mr. James    male  34.5      0      0   \n",
       "1              Wilkes, Mrs. James (Ellen Needs)  female  47.0      1      0   \n",
       "2                     Myles, Mr. Thomas Francis    male  62.0      0      0   \n",
       "3                              Wirz, Mr. Albert    male  27.0      0      0   \n",
       "4  Hirvonen, Mrs. Alexander (Helga E Lindqvist)  female  22.0      1      1   \n",
       "\n",
       "    Ticket     Fare Cabin Embarked  \n",
       "0   330911   7.8292   NaN        Q  \n",
       "1   363272   7.0000   NaN        S  \n",
       "2   240276   9.6875   NaN        Q  \n",
       "3   315154   8.6625   NaN        S  \n",
       "4  3101298  12.2875   NaN        S  "
      ]
     },
     "execution_count": 3,
     "metadata": {},
     "output_type": "execute_result"
    }
   ],
   "source": [
    "data.head()"
   ]
  },
  {
   "cell_type": "code",
   "execution_count": 4,
   "id": "696c80a1",
   "metadata": {},
   "outputs": [
    {
     "data": {
      "text/plain": [
       "(418, 12)"
      ]
     },
     "execution_count": 4,
     "metadata": {},
     "output_type": "execute_result"
    }
   ],
   "source": [
    "data.shape"
   ]
  },
  {
   "cell_type": "code",
   "execution_count": 5,
   "id": "0b0bf623",
   "metadata": {},
   "outputs": [
    {
     "name": "stdout",
     "output_type": "stream",
     "text": [
      "<class 'pandas.core.frame.DataFrame'>\n",
      "RangeIndex: 418 entries, 0 to 417\n",
      "Data columns (total 12 columns):\n",
      " #   Column       Non-Null Count  Dtype  \n",
      "---  ------       --------------  -----  \n",
      " 0   PassengerId  418 non-null    int64  \n",
      " 1   Survived     418 non-null    int64  \n",
      " 2   Pclass       418 non-null    int64  \n",
      " 3   Name         418 non-null    object \n",
      " 4   Sex          418 non-null    object \n",
      " 5   Age          332 non-null    float64\n",
      " 6   SibSp        418 non-null    int64  \n",
      " 7   Parch        418 non-null    int64  \n",
      " 8   Ticket       418 non-null    object \n",
      " 9   Fare         417 non-null    float64\n",
      " 10  Cabin        91 non-null     object \n",
      " 11  Embarked     418 non-null    object \n",
      "dtypes: float64(2), int64(5), object(5)\n",
      "memory usage: 39.3+ KB\n"
     ]
    }
   ],
   "source": [
    "data.info()"
   ]
  },
  {
   "cell_type": "code",
   "execution_count": 6,
   "id": "e2a2f156",
   "metadata": {},
   "outputs": [
    {
     "data": {
      "text/plain": [
       "PassengerId      0\n",
       "Survived         0\n",
       "Pclass           0\n",
       "Name             0\n",
       "Sex              0\n",
       "Age             86\n",
       "SibSp            0\n",
       "Parch            0\n",
       "Ticket           0\n",
       "Fare             1\n",
       "Cabin          327\n",
       "Embarked         0\n",
       "dtype: int64"
      ]
     },
     "execution_count": 6,
     "metadata": {},
     "output_type": "execute_result"
    }
   ],
   "source": [
    "data.isnull().sum()"
   ]
  },
  {
   "cell_type": "code",
   "execution_count": 7,
   "id": "49b7ec58",
   "metadata": {},
   "outputs": [],
   "source": [
    "# Handling Missing Values\n",
    "# Fill missing 'Age' values with the median age of the dataset\n",
    "data['Age'].fillna(data['Age'].median(), inplace=True)"
   ]
  },
  {
   "cell_type": "code",
   "execution_count": 8,
   "id": "03af7961",
   "metadata": {},
   "outputs": [],
   "source": [
    "# Calculate the mean or median value of the 'Fare' column\n",
    "fare_mean = data['Fare'].mean()\n",
    "#fare_median = data['Fare'].median()\n",
    "\n",
    "# Fill the missing value with the mean or median\n",
    "data['Fare'].fillna(fare_mean, inplace=True)  # or replace `fare_mean` with `fare_median`"
   ]
  },
  {
   "cell_type": "code",
   "execution_count": 9,
   "id": "bbe284b1",
   "metadata": {},
   "outputs": [],
   "source": [
    "# Drop any remaining rows with missing values\n",
    "data = data.drop(columns = 'Cabin', axis = 1)"
   ]
  },
  {
   "cell_type": "code",
   "execution_count": 10,
   "id": "74341332",
   "metadata": {},
   "outputs": [
    {
     "data": {
      "text/html": [
       "<div>\n",
       "<style scoped>\n",
       "    .dataframe tbody tr th:only-of-type {\n",
       "        vertical-align: middle;\n",
       "    }\n",
       "\n",
       "    .dataframe tbody tr th {\n",
       "        vertical-align: top;\n",
       "    }\n",
       "\n",
       "    .dataframe thead th {\n",
       "        text-align: right;\n",
       "    }\n",
       "</style>\n",
       "<table border=\"1\" class=\"dataframe\">\n",
       "  <thead>\n",
       "    <tr style=\"text-align: right;\">\n",
       "      <th></th>\n",
       "      <th>PassengerId</th>\n",
       "      <th>Survived</th>\n",
       "      <th>Pclass</th>\n",
       "      <th>Name</th>\n",
       "      <th>Sex</th>\n",
       "      <th>Age</th>\n",
       "      <th>SibSp</th>\n",
       "      <th>Parch</th>\n",
       "      <th>Ticket</th>\n",
       "      <th>Fare</th>\n",
       "      <th>Embarked</th>\n",
       "    </tr>\n",
       "  </thead>\n",
       "  <tbody>\n",
       "    <tr>\n",
       "      <th>0</th>\n",
       "      <td>892</td>\n",
       "      <td>0</td>\n",
       "      <td>3</td>\n",
       "      <td>Kelly, Mr. James</td>\n",
       "      <td>male</td>\n",
       "      <td>34.5</td>\n",
       "      <td>0</td>\n",
       "      <td>0</td>\n",
       "      <td>330911</td>\n",
       "      <td>7.8292</td>\n",
       "      <td>Q</td>\n",
       "    </tr>\n",
       "    <tr>\n",
       "      <th>1</th>\n",
       "      <td>893</td>\n",
       "      <td>1</td>\n",
       "      <td>3</td>\n",
       "      <td>Wilkes, Mrs. James (Ellen Needs)</td>\n",
       "      <td>female</td>\n",
       "      <td>47.0</td>\n",
       "      <td>1</td>\n",
       "      <td>0</td>\n",
       "      <td>363272</td>\n",
       "      <td>7.0000</td>\n",
       "      <td>S</td>\n",
       "    </tr>\n",
       "    <tr>\n",
       "      <th>2</th>\n",
       "      <td>894</td>\n",
       "      <td>0</td>\n",
       "      <td>2</td>\n",
       "      <td>Myles, Mr. Thomas Francis</td>\n",
       "      <td>male</td>\n",
       "      <td>62.0</td>\n",
       "      <td>0</td>\n",
       "      <td>0</td>\n",
       "      <td>240276</td>\n",
       "      <td>9.6875</td>\n",
       "      <td>Q</td>\n",
       "    </tr>\n",
       "    <tr>\n",
       "      <th>3</th>\n",
       "      <td>895</td>\n",
       "      <td>0</td>\n",
       "      <td>3</td>\n",
       "      <td>Wirz, Mr. Albert</td>\n",
       "      <td>male</td>\n",
       "      <td>27.0</td>\n",
       "      <td>0</td>\n",
       "      <td>0</td>\n",
       "      <td>315154</td>\n",
       "      <td>8.6625</td>\n",
       "      <td>S</td>\n",
       "    </tr>\n",
       "    <tr>\n",
       "      <th>4</th>\n",
       "      <td>896</td>\n",
       "      <td>1</td>\n",
       "      <td>3</td>\n",
       "      <td>Hirvonen, Mrs. Alexander (Helga E Lindqvist)</td>\n",
       "      <td>female</td>\n",
       "      <td>22.0</td>\n",
       "      <td>1</td>\n",
       "      <td>1</td>\n",
       "      <td>3101298</td>\n",
       "      <td>12.2875</td>\n",
       "      <td>S</td>\n",
       "    </tr>\n",
       "  </tbody>\n",
       "</table>\n",
       "</div>"
      ],
      "text/plain": [
       "   PassengerId  Survived  Pclass  \\\n",
       "0          892         0       3   \n",
       "1          893         1       3   \n",
       "2          894         0       2   \n",
       "3          895         0       3   \n",
       "4          896         1       3   \n",
       "\n",
       "                                           Name     Sex   Age  SibSp  Parch  \\\n",
       "0                              Kelly, Mr. James    male  34.5      0      0   \n",
       "1              Wilkes, Mrs. James (Ellen Needs)  female  47.0      1      0   \n",
       "2                     Myles, Mr. Thomas Francis    male  62.0      0      0   \n",
       "3                              Wirz, Mr. Albert    male  27.0      0      0   \n",
       "4  Hirvonen, Mrs. Alexander (Helga E Lindqvist)  female  22.0      1      1   \n",
       "\n",
       "    Ticket     Fare Embarked  \n",
       "0   330911   7.8292        Q  \n",
       "1   363272   7.0000        S  \n",
       "2   240276   9.6875        Q  \n",
       "3   315154   8.6625        S  \n",
       "4  3101298  12.2875        S  "
      ]
     },
     "execution_count": 10,
     "metadata": {},
     "output_type": "execute_result"
    }
   ],
   "source": [
    "data.head()"
   ]
  },
  {
   "cell_type": "code",
   "execution_count": 11,
   "id": "2c04ced6",
   "metadata": {},
   "outputs": [
    {
     "data": {
      "text/plain": [
       "(418, 11)"
      ]
     },
     "execution_count": 11,
     "metadata": {},
     "output_type": "execute_result"
    }
   ],
   "source": [
    "data.shape"
   ]
  },
  {
   "cell_type": "code",
   "execution_count": 12,
   "id": "fdedd4e6",
   "metadata": {},
   "outputs": [
    {
     "name": "stdout",
     "output_type": "stream",
     "text": [
      "<class 'pandas.core.frame.DataFrame'>\n",
      "RangeIndex: 418 entries, 0 to 417\n",
      "Data columns (total 11 columns):\n",
      " #   Column       Non-Null Count  Dtype  \n",
      "---  ------       --------------  -----  \n",
      " 0   PassengerId  418 non-null    int64  \n",
      " 1   Survived     418 non-null    int64  \n",
      " 2   Pclass       418 non-null    int64  \n",
      " 3   Name         418 non-null    object \n",
      " 4   Sex          418 non-null    object \n",
      " 5   Age          418 non-null    float64\n",
      " 6   SibSp        418 non-null    int64  \n",
      " 7   Parch        418 non-null    int64  \n",
      " 8   Ticket       418 non-null    object \n",
      " 9   Fare         418 non-null    float64\n",
      " 10  Embarked     418 non-null    object \n",
      "dtypes: float64(2), int64(5), object(4)\n",
      "memory usage: 36.0+ KB\n"
     ]
    }
   ],
   "source": [
    "data.info()"
   ]
  },
  {
   "cell_type": "code",
   "execution_count": 13,
   "id": "1248bc3b",
   "metadata": {},
   "outputs": [
    {
     "data": {
      "text/plain": [
       "PassengerId    0\n",
       "Survived       0\n",
       "Pclass         0\n",
       "Name           0\n",
       "Sex            0\n",
       "Age            0\n",
       "SibSp          0\n",
       "Parch          0\n",
       "Ticket         0\n",
       "Fare           0\n",
       "Embarked       0\n",
       "dtype: int64"
      ]
     },
     "execution_count": 13,
     "metadata": {},
     "output_type": "execute_result"
    }
   ],
   "source": [
    "data.isnull().sum()"
   ]
  },
  {
   "cell_type": "code",
   "execution_count": 14,
   "id": "9141fbac",
   "metadata": {},
   "outputs": [
    {
     "data": {
      "text/html": [
       "<div>\n",
       "<style scoped>\n",
       "    .dataframe tbody tr th:only-of-type {\n",
       "        vertical-align: middle;\n",
       "    }\n",
       "\n",
       "    .dataframe tbody tr th {\n",
       "        vertical-align: top;\n",
       "    }\n",
       "\n",
       "    .dataframe thead th {\n",
       "        text-align: right;\n",
       "    }\n",
       "</style>\n",
       "<table border=\"1\" class=\"dataframe\">\n",
       "  <thead>\n",
       "    <tr style=\"text-align: right;\">\n",
       "      <th></th>\n",
       "      <th>PassengerId</th>\n",
       "      <th>Survived</th>\n",
       "      <th>Pclass</th>\n",
       "      <th>Age</th>\n",
       "      <th>SibSp</th>\n",
       "      <th>Parch</th>\n",
       "      <th>Fare</th>\n",
       "    </tr>\n",
       "  </thead>\n",
       "  <tbody>\n",
       "    <tr>\n",
       "      <th>count</th>\n",
       "      <td>418.000000</td>\n",
       "      <td>418.000000</td>\n",
       "      <td>418.000000</td>\n",
       "      <td>418.000000</td>\n",
       "      <td>418.000000</td>\n",
       "      <td>418.000000</td>\n",
       "      <td>418.000000</td>\n",
       "    </tr>\n",
       "    <tr>\n",
       "      <th>mean</th>\n",
       "      <td>1100.500000</td>\n",
       "      <td>0.363636</td>\n",
       "      <td>2.265550</td>\n",
       "      <td>29.599282</td>\n",
       "      <td>0.447368</td>\n",
       "      <td>0.392344</td>\n",
       "      <td>35.627188</td>\n",
       "    </tr>\n",
       "    <tr>\n",
       "      <th>std</th>\n",
       "      <td>120.810458</td>\n",
       "      <td>0.481622</td>\n",
       "      <td>0.841838</td>\n",
       "      <td>12.703770</td>\n",
       "      <td>0.896760</td>\n",
       "      <td>0.981429</td>\n",
       "      <td>55.840500</td>\n",
       "    </tr>\n",
       "    <tr>\n",
       "      <th>min</th>\n",
       "      <td>892.000000</td>\n",
       "      <td>0.000000</td>\n",
       "      <td>1.000000</td>\n",
       "      <td>0.170000</td>\n",
       "      <td>0.000000</td>\n",
       "      <td>0.000000</td>\n",
       "      <td>0.000000</td>\n",
       "    </tr>\n",
       "    <tr>\n",
       "      <th>25%</th>\n",
       "      <td>996.250000</td>\n",
       "      <td>0.000000</td>\n",
       "      <td>1.000000</td>\n",
       "      <td>23.000000</td>\n",
       "      <td>0.000000</td>\n",
       "      <td>0.000000</td>\n",
       "      <td>7.895800</td>\n",
       "    </tr>\n",
       "    <tr>\n",
       "      <th>50%</th>\n",
       "      <td>1100.500000</td>\n",
       "      <td>0.000000</td>\n",
       "      <td>3.000000</td>\n",
       "      <td>27.000000</td>\n",
       "      <td>0.000000</td>\n",
       "      <td>0.000000</td>\n",
       "      <td>14.454200</td>\n",
       "    </tr>\n",
       "    <tr>\n",
       "      <th>75%</th>\n",
       "      <td>1204.750000</td>\n",
       "      <td>1.000000</td>\n",
       "      <td>3.000000</td>\n",
       "      <td>35.750000</td>\n",
       "      <td>1.000000</td>\n",
       "      <td>0.000000</td>\n",
       "      <td>31.500000</td>\n",
       "    </tr>\n",
       "    <tr>\n",
       "      <th>max</th>\n",
       "      <td>1309.000000</td>\n",
       "      <td>1.000000</td>\n",
       "      <td>3.000000</td>\n",
       "      <td>76.000000</td>\n",
       "      <td>8.000000</td>\n",
       "      <td>9.000000</td>\n",
       "      <td>512.329200</td>\n",
       "    </tr>\n",
       "  </tbody>\n",
       "</table>\n",
       "</div>"
      ],
      "text/plain": [
       "       PassengerId    Survived      Pclass         Age       SibSp  \\\n",
       "count   418.000000  418.000000  418.000000  418.000000  418.000000   \n",
       "mean   1100.500000    0.363636    2.265550   29.599282    0.447368   \n",
       "std     120.810458    0.481622    0.841838   12.703770    0.896760   \n",
       "min     892.000000    0.000000    1.000000    0.170000    0.000000   \n",
       "25%     996.250000    0.000000    1.000000   23.000000    0.000000   \n",
       "50%    1100.500000    0.000000    3.000000   27.000000    0.000000   \n",
       "75%    1204.750000    1.000000    3.000000   35.750000    1.000000   \n",
       "max    1309.000000    1.000000    3.000000   76.000000    8.000000   \n",
       "\n",
       "            Parch        Fare  \n",
       "count  418.000000  418.000000  \n",
       "mean     0.392344   35.627188  \n",
       "std      0.981429   55.840500  \n",
       "min      0.000000    0.000000  \n",
       "25%      0.000000    7.895800  \n",
       "50%      0.000000   14.454200  \n",
       "75%      0.000000   31.500000  \n",
       "max      9.000000  512.329200  "
      ]
     },
     "execution_count": 14,
     "metadata": {},
     "output_type": "execute_result"
    }
   ],
   "source": [
    "data.describe()"
   ]
  },
  {
   "cell_type": "code",
   "execution_count": 15,
   "id": "b9d62dcf",
   "metadata": {},
   "outputs": [
    {
     "data": {
      "text/plain": [
       "0    266\n",
       "1    152\n",
       "Name: Survived, dtype: int64"
      ]
     },
     "execution_count": 15,
     "metadata": {},
     "output_type": "execute_result"
    }
   ],
   "source": [
    "data['Survived'].value_counts()"
   ]
  },
  {
   "cell_type": "code",
   "execution_count": 16,
   "id": "ea1bb4ef",
   "metadata": {},
   "outputs": [
    {
     "data": {
      "image/png": "[encoded data removed]",
      "text/plain": [
       "<Figure size 432x288 with 1 Axes>"
      ]
     },
     "metadata": {
      "needs_background": "light"
     },
     "output_type": "display_data"
    }
   ],
   "source": [
    "# Data Visualization\n",
    "sns.countplot(x='Survived', data=data)  \n",
    "plt.show()"
   ]
  },
  {
   "cell_type": "code",
   "execution_count": 17,
   "id": "49fbc858",
   "metadata": {},
   "outputs": [
    {
     "data": {
      "image/png": "[encoded data removed]",
      "text/plain": [
       "<Figure size 432x288 with 1 Axes>"
      ]
     },
     "metadata": {
      "needs_background": "light"
     },
     "output_type": "display_data"
    }
   ],
   "source": [
    "sns.countplot(x='Survived', hue='Sex', data=data)  \n",
    "plt.show()"
   ]
  },
  {
   "cell_type": "code",
   "execution_count": 18,
   "id": "246576a3",
   "metadata": {},
   "outputs": [
    {
     "data": {
      "image/png": "[encoded data removed]",
      "text/plain": [
       "<Figure size 432x288 with 1 Axes>"
      ]
     },
     "metadata": {
      "needs_background": "light"
     },
     "output_type": "display_data"
    }
   ],
   "source": [
    "sns.countplot(x='Survived', hue='Pclass', data=data)  \n",
    "plt.show()"
   ]
  },
  {
   "cell_type": "markdown",
   "id": "b30b70a7",
   "metadata": {},
   "source": [
    "# Feature Selection"
   ]
  },
  {
   "cell_type": "code",
   "execution_count": 19,
   "id": "aecde887",
   "metadata": {},
   "outputs": [],
   "source": [
    "# Split the data into features (X) and target (y)\n",
    "X = data[['Pclass', 'Age', 'SibSp', 'Parch', 'Fare', 'Sex', 'Embarked']]\n",
    "Y = data['Survived']"
   ]
  },
  {
   "cell_type": "code",
   "execution_count": 20,
   "id": "50fcc57a",
   "metadata": {},
   "outputs": [],
   "source": [
    "# Convert categorical variables 'Sex' and 'Embarked' into numerical form (one-hot encoding)\n",
    "X = pd.get_dummies(X, columns=['Sex', 'Embarked'], drop_first=True)"
   ]
  },
  {
   "cell_type": "code",
   "execution_count": 21,
   "id": "cd26e6d3",
   "metadata": {},
   "outputs": [
    {
     "name": "stdout",
     "output_type": "stream",
     "text": [
      "     Pclass   Age  SibSp  Parch      Fare  Sex_male  Embarked_Q  Embarked_S\n",
      "0         3  34.5      0      0    7.8292         1           1           0\n",
      "1         3  47.0      1      0    7.0000         0           0           1\n",
      "2         2  62.0      0      0    9.6875         1           1           0\n",
      "3         3  27.0      0      0    8.6625         1           0           1\n",
      "4         3  22.0      1      1   12.2875         0           0           1\n",
      "..      ...   ...    ...    ...       ...       ...         ...         ...\n",
      "413       3  27.0      0      0    8.0500         1           0           1\n",
      "414       1  39.0      0      0  108.9000         0           0           0\n",
      "415       3  38.5      0      0    7.2500         1           0           1\n",
      "416       3  27.0      0      0    8.0500         1           0           1\n",
      "417       3  27.0      1      1   22.3583         1           0           0\n",
      "\n",
      "[418 rows x 8 columns]\n"
     ]
    }
   ],
   "source": [
    "print(X)"
   ]
  },
  {
   "cell_type": "code",
   "execution_count": 22,
   "id": "8115b792",
   "metadata": {},
   "outputs": [
    {
     "name": "stdout",
     "output_type": "stream",
     "text": [
      "0      0\n",
      "1      1\n",
      "2      0\n",
      "3      0\n",
      "4      1\n",
      "      ..\n",
      "413    0\n",
      "414    1\n",
      "415    0\n",
      "416    0\n",
      "417    0\n",
      "Name: Survived, Length: 418, dtype: int64\n"
     ]
    }
   ],
   "source": [
    "print(Y)"
   ]
  },
  {
   "cell_type": "markdown",
   "id": "6c4f0901",
   "metadata": {},
   "source": [
    "# Data Splitting"
   ]
  },
  {
   "cell_type": "code",
   "execution_count": 23,
   "id": "e0c1d2a2",
   "metadata": {},
   "outputs": [],
   "source": [
    "# Splitting the data into training and validation sets\n",
    "X_train, X_valid, y_train, y_valid = train_test_split(X, Y, test_size=0.2, random_state=42)"
   ]
  },
  {
   "cell_type": "markdown",
   "id": "d4809a9d",
   "metadata": {},
   "source": [
    "# Model Selection"
   ]
  },
  {
   "cell_type": "code",
   "execution_count": 24,
   "id": "ff36110a",
   "metadata": {},
   "outputs": [],
   "source": [
    "# Model Selection\n",
    "model = LogisticRegression(max_iter=140)"
   ]
  },
  {
   "cell_type": "markdown",
   "id": "be5e72a8",
   "metadata": {},
   "source": [
    "# Model Training"
   ]
  },
  {
   "cell_type": "code",
   "execution_count": 25,
   "id": "c35ba0f9",
   "metadata": {},
   "outputs": [
    {
     "data": {
      "text/plain": [
       "LogisticRegression(max_iter=140)"
      ]
     },
     "execution_count": 25,
     "metadata": {},
     "output_type": "execute_result"
    }
   ],
   "source": [
    "# Model Training\n",
    "model.fit(X_train, y_train)"
   ]
  },
  {
   "cell_type": "markdown",
   "id": "aefd6938",
   "metadata": {},
   "source": [
    "# Model Evaluation"
   ]
  },
  {
   "cell_type": "code",
   "execution_count": 26,
   "id": "f9740206",
   "metadata": {},
   "outputs": [
    {
     "name": "stdout",
     "output_type": "stream",
     "text": [
      "Validation Accuracy: 1.0\n"
     ]
    }
   ],
   "source": [
    "# Model Evaluation\n",
    "y_pred = model.predict(X_valid)\n",
    "accuracy = accuracy_score(y_valid, y_pred)\n",
    "print('Validation Accuracy:', accuracy)"
   ]
  },
  {
   "cell_type": "markdown",
   "id": "0cc872c3",
   "metadata": {},
   "source": [
    "# Model Prediction"
   ]
  },
  {
   "cell_type": "code",
   "execution_count": 27,
   "id": "5e61caf9",
   "metadata": {},
   "outputs": [],
   "source": [
    "# Predicting Survival Data\n",
    "test_predictions = model.predict(X)"
   ]
  },
  {
   "cell_type": "code",
   "execution_count": 28,
   "id": "fd00fa43",
   "metadata": {},
   "outputs": [
    {
     "name": "stdout",
     "output_type": "stream",
     "text": [
      "Passenger 892: Did not survive\n",
      "Passenger 893: Survived\n",
      "Passenger 894: Did not survive\n",
      "Passenger 895: Did not survive\n",
      "Passenger 896: Survived\n",
      "Passenger 897: Did not survive\n",
      "Passenger 898: Survived\n",
      "Passenger 899: Did not survive\n",
      "Passenger 900: Survived\n",
      "Passenger 901: Did not survive\n",
      "Passenger 902: Did not survive\n",
      "Passenger 903: Did not survive\n",
      "Passenger 904: Survived\n",
      "Passenger 905: Did not survive\n",
      "Passenger 906: Survived\n",
      "Passenger 907: Survived\n",
      "Passenger 908: Did not survive\n",
      "Passenger 909: Did not survive\n",
      "Passenger 910: Survived\n",
      "Passenger 911: Survived\n",
      "Passenger 912: Did not survive\n",
      "Passenger 913: Did not survive\n",
      "Passenger 914: Survived\n",
      "Passenger 915: Did not survive\n",
      "Passenger 916: Survived\n",
      "Passenger 917: Did not survive\n",
      "Passenger 918: Survived\n",
      "Passenger 919: Did not survive\n",
      "Passenger 920: Did not survive\n",
      "Passenger 921: Did not survive\n",
      "Passenger 922: Did not survive\n",
      "Passenger 923: Did not survive\n",
      "Passenger 924: Survived\n",
      "Passenger 925: Survived\n",
      "Passenger 926: Did not survive\n",
      "Passenger 927: Did not survive\n",
      "Passenger 928: Survived\n",
      "Passenger 929: Survived\n",
      "Passenger 930: Did not survive\n",
      "Passenger 931: Did not survive\n",
      "Passenger 932: Did not survive\n",
      "Passenger 933: Did not survive\n",
      "Passenger 934: Did not survive\n",
      "Passenger 935: Survived\n",
      "Passenger 936: Survived\n",
      "Passenger 937: Did not survive\n",
      "Passenger 938: Did not survive\n",
      "Passenger 939: Did not survive\n",
      "Passenger 940: Survived\n",
      "Passenger 941: Survived\n",
      "Passenger 942: Did not survive\n",
      "Passenger 943: Did not survive\n",
      "Passenger 944: Survived\n",
      "Passenger 945: Survived\n",
      "Passenger 946: Did not survive\n",
      "Passenger 947: Did not survive\n",
      "Passenger 948: Did not survive\n",
      "Passenger 949: Did not survive\n",
      "Passenger 950: Did not survive\n",
      "Passenger 951: Survived\n",
      "Passenger 952: Did not survive\n",
      "Passenger 953: Did not survive\n",
      "Passenger 954: Did not survive\n",
      "Passenger 955: Survived\n",
      "Passenger 956: Did not survive\n",
      "Passenger 957: Survived\n",
      "Passenger 958: Survived\n",
      "Passenger 959: Did not survive\n",
      "Passenger 960: Did not survive\n",
      "Passenger 961: Survived\n",
      "Passenger 962: Survived\n",
      "Passenger 963: Did not survive\n",
      "Passenger 964: Survived\n",
      "Passenger 965: Did not survive\n",
      "Passenger 966: Survived\n",
      "Passenger 967: Did not survive\n",
      "Passenger 968: Did not survive\n",
      "Passenger 969: Survived\n",
      "Passenger 970: Did not survive\n",
      "Passenger 971: Survived\n",
      "Passenger 972: Did not survive\n",
      "Passenger 973: Did not survive\n",
      "Passenger 974: Did not survive\n",
      "Passenger 975: Did not survive\n",
      "Passenger 976: Did not survive\n",
      "Passenger 977: Did not survive\n",
      "Passenger 978: Survived\n",
      "Passenger 979: Survived\n",
      "Passenger 980: Survived\n",
      "Passenger 981: Did not survive\n",
      "Passenger 982: Survived\n",
      "Passenger 983: Did not survive\n",
      "Passenger 984: Survived\n",
      "Passenger 985: Did not survive\n",
      "Passenger 986: Did not survive\n",
      "Passenger 987: Did not survive\n",
      "Passenger 988: Survived\n",
      "Passenger 989: Did not survive\n",
      "Passenger 990: Survived\n",
      "Passenger 991: Did not survive\n",
      "Passenger 992: Survived\n",
      "Passenger 993: Did not survive\n",
      "Passenger 994: Did not survive\n",
      "Passenger 995: Did not survive\n",
      "Passenger 996: Survived\n",
      "Passenger 997: Did not survive\n",
      "Passenger 998: Did not survive\n",
      "Passenger 999: Did not survive\n",
      "Passenger 1000: Did not survive\n",
      "Passenger 1001: Did not survive\n",
      "Passenger 1002: Did not survive\n",
      "Passenger 1003: Survived\n",
      "Passenger 1004: Survived\n",
      "Passenger 1005: Survived\n",
      "Passenger 1006: Survived\n",
      "Passenger 1007: Did not survive\n",
      "Passenger 1008: Did not survive\n",
      "Passenger 1009: Survived\n",
      "Passenger 1010: Did not survive\n",
      "Passenger 1011: Survived\n",
      "Passenger 1012: Survived\n",
      "Passenger 1013: Did not survive\n",
      "Passenger 1014: Survived\n",
      "Passenger 1015: Did not survive\n",
      "Passenger 1016: Did not survive\n",
      "Passenger 1017: Survived\n",
      "Passenger 1018: Did not survive\n",
      "Passenger 1019: Survived\n",
      "Passenger 1020: Did not survive\n",
      "Passenger 1021: Did not survive\n",
      "Passenger 1022: Did not survive\n",
      "Passenger 1023: Did not survive\n",
      "Passenger 1024: Survived\n",
      "Passenger 1025: Did not survive\n",
      "Passenger 1026: Did not survive\n",
      "Passenger 1027: Did not survive\n",
      "Passenger 1028: Did not survive\n",
      "Passenger 1029: Did not survive\n",
      "Passenger 1030: Survived\n",
      "Passenger 1031: Did not survive\n",
      "Passenger 1032: Survived\n",
      "Passenger 1033: Survived\n",
      "Passenger 1034: Did not survive\n",
      "Passenger 1035: Did not survive\n",
      "Passenger 1036: Did not survive\n",
      "Passenger 1037: Did not survive\n",
      "Passenger 1038: Did not survive\n",
      "Passenger 1039: Did not survive\n",
      "Passenger 1040: Did not survive\n",
      "Passenger 1041: Did not survive\n",
      "Passenger 1042: Survived\n",
      "Passenger 1043: Did not survive\n",
      "Passenger 1044: Did not survive\n",
      "Passenger 1045: Survived\n",
      "Passenger 1046: Did not survive\n",
      "Passenger 1047: Did not survive\n",
      "Passenger 1048: Survived\n",
      "Passenger 1049: Survived\n",
      "Passenger 1050: Did not survive\n",
      "Passenger 1051: Survived\n",
      "Passenger 1052: Survived\n",
      "Passenger 1053: Did not survive\n",
      "Passenger 1054: Survived\n",
      "Passenger 1055: Did not survive\n",
      "Passenger 1056: Did not survive\n",
      "Passenger 1057: Survived\n",
      "Passenger 1058: Did not survive\n",
      "Passenger 1059: Did not survive\n",
      "Passenger 1060: Survived\n",
      "Passenger 1061: Survived\n",
      "Passenger 1062: Did not survive\n",
      "Passenger 1063: Did not survive\n",
      "Passenger 1064: Did not survive\n",
      "Passenger 1065: Did not survive\n",
      "Passenger 1066: Did not survive\n",
      "Passenger 1067: Survived\n",
      "Passenger 1068: Survived\n",
      "Passenger 1069: Did not survive\n",
      "Passenger 1070: Survived\n",
      "Passenger 1071: Survived\n",
      "Passenger 1072: Did not survive\n",
      "Passenger 1073: Did not survive\n",
      "Passenger 1074: Survived\n",
      "Passenger 1075: Did not survive\n",
      "Passenger 1076: Survived\n",
      "Passenger 1077: Did not survive\n",
      "Passenger 1078: Survived\n",
      "Passenger 1079: Did not survive\n",
      "Passenger 1080: Survived\n",
      "Passenger 1081: Did not survive\n",
      "Passenger 1082: Did not survive\n",
      "Passenger 1083: Did not survive\n",
      "Passenger 1084: Did not survive\n",
      "Passenger 1085: Did not survive\n",
      "Passenger 1086: Did not survive\n",
      "Passenger 1087: Did not survive\n",
      "Passenger 1088: Did not survive\n",
      "Passenger 1089: Survived\n",
      "Passenger 1090: Did not survive\n",
      "Passenger 1091: Survived\n",
      "Passenger 1092: Survived\n",
      "Passenger 1093: Did not survive\n",
      "Passenger 1094: Did not survive\n",
      "Passenger 1095: Survived\n",
      "Passenger 1096: Did not survive\n",
      "Passenger 1097: Did not survive\n",
      "Passenger 1098: Survived\n",
      "Passenger 1099: Did not survive\n",
      "Passenger 1100: Survived\n",
      "Passenger 1101: Did not survive\n",
      "Passenger 1102: Did not survive\n",
      "Passenger 1103: Did not survive\n",
      "Passenger 1104: Did not survive\n",
      "Passenger 1105: Survived\n",
      "Passenger 1106: Survived\n",
      "Passenger 1107: Did not survive\n",
      "Passenger 1108: Survived\n",
      "Passenger 1109: Did not survive\n",
      "Passenger 1110: Survived\n",
      "Passenger 1111: Did not survive\n",
      "Passenger 1112: Survived\n",
      "Passenger 1113: Did not survive\n",
      "Passenger 1114: Survived\n",
      "Passenger 1115: Did not survive\n",
      "Passenger 1116: Survived\n",
      "Passenger 1117: Survived\n",
      "Passenger 1118: Did not survive\n",
      "Passenger 1119: Survived\n",
      "Passenger 1120: Did not survive\n",
      "Passenger 1121: Did not survive\n",
      "Passenger 1122: Did not survive\n",
      "Passenger 1123: Survived\n",
      "Passenger 1124: Did not survive\n",
      "Passenger 1125: Did not survive\n",
      "Passenger 1126: Did not survive\n",
      "Passenger 1127: Did not survive\n",
      "Passenger 1128: Did not survive\n",
      "Passenger 1129: Did not survive\n",
      "Passenger 1130: Survived\n",
      "Passenger 1131: Survived\n",
      "Passenger 1132: Survived\n",
      "Passenger 1133: Survived\n",
      "Passenger 1134: Did not survive\n",
      "Passenger 1135: Did not survive\n",
      "Passenger 1136: Did not survive\n",
      "Passenger 1137: Did not survive\n",
      "Passenger 1138: Survived\n",
      "Passenger 1139: Did not survive\n",
      "Passenger 1140: Survived\n",
      "Passenger 1141: Survived\n",
      "Passenger 1142: Survived\n",
      "Passenger 1143: Did not survive\n",
      "Passenger 1144: Did not survive\n",
      "Passenger 1145: Did not survive\n",
      "Passenger 1146: Did not survive\n",
      "Passenger 1147: Did not survive\n",
      "Passenger 1148: Did not survive\n",
      "Passenger 1149: Did not survive\n",
      "Passenger 1150: Survived\n",
      "Passenger 1151: Did not survive\n",
      "Passenger 1152: Did not survive\n",
      "Passenger 1153: Did not survive\n",
      "Passenger 1154: Survived\n",
      "Passenger 1155: Survived\n",
      "Passenger 1156: Did not survive\n",
      "Passenger 1157: Did not survive\n",
      "Passenger 1158: Did not survive\n",
      "Passenger 1159: Did not survive\n",
      "Passenger 1160: Survived\n",
      "Passenger 1161: Did not survive\n",
      "Passenger 1162: Did not survive\n",
      "Passenger 1163: Did not survive\n",
      "Passenger 1164: Survived\n",
      "Passenger 1165: Survived\n",
      "Passenger 1166: Did not survive\n",
      "Passenger 1167: Survived\n",
      "Passenger 1168: Did not survive\n",
      "Passenger 1169: Did not survive\n",
      "Passenger 1170: Did not survive\n",
      "Passenger 1171: Did not survive\n",
      "Passenger 1172: Survived\n",
      "Passenger 1173: Did not survive\n",
      "Passenger 1174: Survived\n",
      "Passenger 1175: Survived\n",
      "Passenger 1176: Survived\n",
      "Passenger 1177: Did not survive\n",
      "Passenger 1178: Did not survive\n",
      "Passenger 1179: Did not survive\n",
      "Passenger 1180: Did not survive\n",
      "Passenger 1181: Did not survive\n",
      "Passenger 1182: Did not survive\n",
      "Passenger 1183: Survived\n",
      "Passenger 1184: Did not survive\n",
      "Passenger 1185: Did not survive\n",
      "Passenger 1186: Did not survive\n",
      "Passenger 1187: Did not survive\n",
      "Passenger 1188: Survived\n",
      "Passenger 1189: Did not survive\n",
      "Passenger 1190: Did not survive\n",
      "Passenger 1191: Did not survive\n",
      "Passenger 1192: Did not survive\n",
      "Passenger 1193: Did not survive\n",
      "Passenger 1194: Did not survive\n",
      "Passenger 1195: Did not survive\n",
      "Passenger 1196: Survived\n",
      "Passenger 1197: Survived\n",
      "Passenger 1198: Did not survive\n",
      "Passenger 1199: Did not survive\n",
      "Passenger 1200: Did not survive\n",
      "Passenger 1201: Survived\n",
      "Passenger 1202: Did not survive\n",
      "Passenger 1203: Did not survive\n",
      "Passenger 1204: Did not survive\n",
      "Passenger 1205: Survived\n",
      "Passenger 1206: Survived\n",
      "Passenger 1207: Survived\n",
      "Passenger 1208: Did not survive\n",
      "Passenger 1209: Did not survive\n",
      "Passenger 1210: Did not survive\n",
      "Passenger 1211: Did not survive\n",
      "Passenger 1212: Did not survive\n",
      "Passenger 1213: Did not survive\n",
      "Passenger 1214: Did not survive\n",
      "Passenger 1215: Did not survive\n",
      "Passenger 1216: Survived\n",
      "Passenger 1217: Did not survive\n",
      "Passenger 1218: Survived\n",
      "Passenger 1219: Did not survive\n",
      "Passenger 1220: Did not survive\n",
      "Passenger 1221: Did not survive\n",
      "Passenger 1222: Survived\n",
      "Passenger 1223: Did not survive\n",
      "Passenger 1224: Did not survive\n",
      "Passenger 1225: Survived\n",
      "Passenger 1226: Did not survive\n",
      "Passenger 1227: Did not survive\n",
      "Passenger 1228: Did not survive\n",
      "Passenger 1229: Did not survive\n",
      "Passenger 1230: Did not survive\n",
      "Passenger 1231: Did not survive\n",
      "Passenger 1232: Did not survive\n",
      "Passenger 1233: Did not survive\n",
      "Passenger 1234: Did not survive\n",
      "Passenger 1235: Survived\n",
      "Passenger 1236: Did not survive\n",
      "Passenger 1237: Survived\n",
      "Passenger 1238: Did not survive\n",
      "Passenger 1239: Survived\n",
      "Passenger 1240: Did not survive\n",
      "Passenger 1241: Survived\n",
      "Passenger 1242: Survived\n",
      "Passenger 1243: Did not survive\n",
      "Passenger 1244: Did not survive\n",
      "Passenger 1245: Did not survive\n",
      "Passenger 1246: Survived\n",
      "Passenger 1247: Did not survive\n",
      "Passenger 1248: Survived\n",
      "Passenger 1249: Did not survive\n",
      "Passenger 1250: Did not survive\n",
      "Passenger 1251: Survived\n",
      "Passenger 1252: Did not survive\n",
      "Passenger 1253: Survived\n",
      "Passenger 1254: Survived\n",
      "Passenger 1255: Did not survive\n",
      "Passenger 1256: Survived\n",
      "Passenger 1257: Survived\n",
      "Passenger 1258: Did not survive\n",
      "Passenger 1259: Survived\n",
      "Passenger 1260: Survived\n",
      "Passenger 1261: Did not survive\n",
      "Passenger 1262: Did not survive\n",
      "Passenger 1263: Survived\n",
      "Passenger 1264: Did not survive\n",
      "Passenger 1265: Did not survive\n",
      "Passenger 1266: Survived\n",
      "Passenger 1267: Survived\n",
      "Passenger 1268: Survived\n",
      "Passenger 1269: Did not survive\n",
      "Passenger 1270: Did not survive\n",
      "Passenger 1271: Did not survive\n",
      "Passenger 1272: Did not survive\n",
      "Passenger 1273: Did not survive\n",
      "Passenger 1274: Survived\n",
      "Passenger 1275: Survived\n",
      "Passenger 1276: Did not survive\n",
      "Passenger 1277: Survived\n",
      "Passenger 1278: Did not survive\n",
      "Passenger 1279: Did not survive\n",
      "Passenger 1280: Did not survive\n",
      "Passenger 1281: Did not survive\n",
      "Passenger 1282: Did not survive\n",
      "Passenger 1283: Survived\n",
      "Passenger 1284: Did not survive\n",
      "Passenger 1285: Did not survive\n",
      "Passenger 1286: Did not survive\n",
      "Passenger 1287: Survived\n",
      "Passenger 1288: Did not survive\n",
      "Passenger 1289: Survived\n",
      "Passenger 1290: Did not survive\n",
      "Passenger 1291: Did not survive\n",
      "Passenger 1292: Survived\n",
      "Passenger 1293: Did not survive\n",
      "Passenger 1294: Survived\n",
      "Passenger 1295: Did not survive\n",
      "Passenger 1296: Did not survive\n",
      "Passenger 1297: Did not survive\n",
      "Passenger 1298: Did not survive\n",
      "Passenger 1299: Did not survive\n",
      "Passenger 1300: Survived\n",
      "Passenger 1301: Survived\n",
      "Passenger 1302: Survived\n",
      "Passenger 1303: Survived\n",
      "Passenger 1304: Survived\n",
      "Passenger 1305: Did not survive\n",
      "Passenger 1306: Survived\n",
      "Passenger 1307: Did not survive\n",
      "Passenger 1308: Did not survive\n",
      "Passenger 1309: Did not survive\n"
     ]
    }
   ],
   "source": [
    "# Displaying the Predictions\n",
    "for passenger_id, prediction in zip(data['PassengerId'], test_predictions):\n",
    "    print(f\"Passenger {passenger_id}: {'Survived' if prediction == 1 else 'Did not survive'}\")"
   ]
  }
 ],
 "metadata": {
  "kernelspec": {
   "display_name": "Python 3 (ipykernel)",
   "language": "python",
   "name": "python3"
  },
  "language_info": {
   "codemirror_mode": {
    "name": "ipython",
    "version": 3
   },
   "file_extension": ".py",
   "mimetype": "text/x-python",
   "name": "python",
   "nbconvert_exporter": "python",
   "pygments_lexer": "ipython3",
   "version": "3.9.7"
  }
 },
 "nbformat": 4,
 "nbformat_minor": 5
}
